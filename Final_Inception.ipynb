{
  "nbformat": 4,
  "nbformat_minor": 0,
  "metadata": {
    "colab": {
      "provenance": [],
      "gpuType": "T4"
    },
    "kernelspec": {
      "name": "python3",
      "display_name": "Python 3"
    },
    "language_info": {
      "name": "python"
    },
    "accelerator": "GPU"
  },
  "cells": [
    {
      "cell_type": "code",
      "execution_count": null,
      "metadata": {
        "colab": {
          "base_uri": "https://localhost:8080/"
        },
        "id": "fTCQQUczPsw2",
        "outputId": "0a781ad8-a57e-44b8-8137-d6f4c881da03"
      },
      "outputs": [
        {
          "output_type": "stream",
          "name": "stdout",
          "text": [
            "Mounted at /content/drive\n"
          ]
        }
      ],
      "source": [
        "from google.colab import drive\n",
        "drive.mount('/content/drive')\n"
      ]
    },
    {
      "cell_type": "code",
      "source": [
        "import os\n",
        "import pandas as pd\n",
        "import numpy as np\n",
        "from sklearn.model_selection import train_test_split\n",
        "from tensorflow.keras.preprocessing.image import ImageDataGenerator\n",
        "from tensorflow.keras.applications import InceptionV3  # Using InceptionV3\n",
        "from tensorflow.keras.models import Model\n",
        "from tensorflow.keras.layers import Flatten, Dense, Dropout, GlobalAveragePooling2D\n",
        "from tensorflow.keras.optimizers import Adam\n",
        "from tensorflow.keras.callbacks import EarlyStopping, ModelCheckpoint\n",
        "from sklearn.metrics import classification_report, roc_auc_score, f1_score, confusion_matrix, auc\n",
        "import matplotlib.pyplot as plt\n",
        "import seaborn as sns\n"
      ],
      "metadata": {
        "id": "ZXdXJ0i3Qi4W"
      },
      "execution_count": null,
      "outputs": []
    },
    {
      "cell_type": "code",
      "source": [
        "# Path to the dataset\n",
        "dataset_dir = '/content/drive/MyDrive/Soil Nitrogen Levels'\n",
        "\n",
        "# Create lists to hold image paths and labels\n",
        "image_paths = []\n",
        "labels = []\n",
        "\n",
        "# Walk through each class directory\n",
        "for label in os.listdir(dataset_dir):\n",
        "    class_dir = os.path.join(dataset_dir, label)\n",
        "    if os.path.isdir(class_dir):\n",
        "        for img_file in os.listdir(class_dir):\n",
        "            image_paths.append(os.path.join(class_dir, img_file))\n",
        "            labels.append(label)\n",
        "\n",
        "# Convert the data into a DataFrame\n",
        "data = pd.DataFrame({'image_path': image_paths, 'label': labels})\n",
        "\n",
        "# Shuffle the data\n",
        "data = data.sample(frac=1).reset_index(drop=True)\n",
        "\n",
        "# Split the dataset (80% train, 10% validation, 10% test)\n",
        "train_data, temp_data = train_test_split(data, test_size=0.2, stratify=data['label'], random_state=42)\n",
        "val_data, test_data = train_test_split(temp_data, test_size=0.5, stratify=temp_data['label'], random_state=42)\n"
      ],
      "metadata": {
        "id": "Qdna7AzcQlyq"
      },
      "execution_count": null,
      "outputs": []
    },
    {
      "cell_type": "code",
      "source": [
        "# Create ImageDataGenerator for training with data augmentation\n",
        "train_datagen = ImageDataGenerator(\n",
        "    rescale=1./255,\n",
        "    rotation_range=40,\n",
        "    width_shift_range=0.2,\n",
        "    height_shift_range=0.2,\n",
        "    shear_range=0.2,\n",
        "    zoom_range=0.2,\n",
        "    horizontal_flip=True,\n",
        "    fill_mode='nearest'\n",
        "    brightness_range=[0.8, 1.2],\n",
        "    channel_shift_range=30\n",
        ")\n",
        "\n",
        "\n",
        "# Validation and test data generators (only rescaling)\n",
        "val_test_datagen = ImageDataGenerator(rescale=1./255)\n",
        "\n",
        "# Load training data from DataFrame\n",
        "train_generator = train_datagen.flow_from_dataframe(\n",
        "    dataframe=train_data,\n",
        "    x_col='image_path',\n",
        "    y_col='label',\n",
        "    target_size=(299, 299),  # InceptionV3 requires input size of 299x299\n",
        "    batch_size=32,\n",
        "    class_mode='categorical'\n",
        ")\n",
        "\n",
        "# Load validation data from DataFrame\n",
        "val_generator = val_test_datagen.flow_from_dataframe(\n",
        "    dataframe=val_data,\n",
        "    x_col='image_path',\n",
        "    y_col='label',\n",
        "    target_size=(299, 299),  # InceptionV3 input size\n",
        "    batch_size=32,\n",
        "    class_mode='categorical',\n",
        "    shuffle=False\n",
        ")\n",
        "\n",
        "# Load testing data from DataFrame\n",
        "test_generator = val_test_datagen.flow_from_dataframe(\n",
        "    dataframe=test_data,\n",
        "    x_col='image_path',\n",
        "    y_col='label',\n",
        "    target_size=(299, 299),  # InceptionV3 input size\n",
        "    batch_size=32,\n",
        "    class_mode='categorical',\n",
        "    shuffle=False\n",
        ")\n"
      ],
      "metadata": {
        "colab": {
          "base_uri": "https://localhost:8080/"
        },
        "id": "kjVT_CSHQrS2",
        "outputId": "5e699a95-3e30-4b2f-aeb9-da915daa31d7"
      },
      "execution_count": null,
      "outputs": [
        {
          "output_type": "stream",
          "name": "stdout",
          "text": [
            "Found 608 validated image filenames belonging to 4 classes.\n",
            "Found 76 validated image filenames belonging to 4 classes.\n",
            "Found 76 validated image filenames belonging to 4 classes.\n"
          ]
        }
      ]
    },
    {
      "cell_type": "code",
      "source": [
        "# Split the dataset (80% for training, 10% for validation, 10% for testing)\n",
        "train_data, temp_data = train_test_split(data, test_size=0.2, stratify=data['label'], random_state=42)\n",
        "val_data, test_data = train_test_split(temp_data, test_size=0.5, stratify=temp_data['label'], random_state=42)\n",
        "\n",
        "# Save the split dataset to CSV files (optional)\n",
        "train_data.to_csv('/content/drive/MyDrive/mareertrain_datainv_80.csv', index=False)\n",
        "val_data.to_csv('/content/drive/MyDrive/mareerval_datainc_10.csv', index=False)\n",
        "test_data.to_csv('/content/drive/MyDrive/mareertest_datainc_10.csv', index=False)\n",
        "\n",
        "# Display the shapes of training, validation, and testing sets\n",
        "print(f\"Training set: {train_data.shape}\")\n",
        "print(f\"Validation set: {val_data.shape}\")\n",
        "print(f\"Testing set: {test_data.shape}\")\n"
      ],
      "metadata": {
        "colab": {
          "base_uri": "https://localhost:8080/"
        },
        "id": "vBetQ85oQtNn",
        "outputId": "cc9f6291-c1b2-4854-fca1-9cb672d653d6"
      },
      "execution_count": null,
      "outputs": [
        {
          "output_type": "stream",
          "name": "stdout",
          "text": [
            "Training set: (608, 2)\n",
            "Validation set: (76, 2)\n",
            "Testing set: (76, 2)\n"
          ]
        }
      ]
    },
    {
      "cell_type": "code",
      "source": [
        "# Load the InceptionV3 model, excluding the top fully connected layers\n",
        "base_model = InceptionV3(weights='imagenet', include_top=False, input_shape=(299, 299, 3))\n",
        "\n",
        "# Freeze the convolutional base of InceptionV3 to prevent training initially\n",
        "for layer in base_model.layers:\n",
        "    layer.trainable = False\n"
      ],
      "metadata": {
        "colab": {
          "base_uri": "https://localhost:8080/"
        },
        "id": "CaQyMJ6_Q8r7",
        "outputId": "39ee449a-226e-4a73-9e58-f5a9195dab16"
      },
      "execution_count": null,
      "outputs": [
        {
          "output_type": "stream",
          "name": "stdout",
          "text": [
            "Downloading data from https://storage.googleapis.com/tensorflow/keras-applications/inception_v3/inception_v3_weights_tf_dim_ordering_tf_kernels_notop.h5\n",
            "\u001b[1m87910968/87910968\u001b[0m \u001b[32m━━━━━━━━━━━━━━━━━━━━\u001b[0m\u001b[37m\u001b[0m \u001b[1m0s\u001b[0m 0us/step\n"
          ]
        }
      ]
    },
    {
      "cell_type": "code",
      "source": [
        "# Add custom layers on top of InceptionV3\n",
        "x = base_model.output\n",
        "x = GlobalAveragePooling2D()(x)  # Use global average pooling instead of Flatten\n",
        "x = Dense(256, activation='relu')(x)\n",
        "x = Dropout(0.5)(x)\n",
        "\n",
        "# Output layer with softmax activation for multi-class classification\n",
        "num_classes = len(train_generator.class_indices)\n",
        "predictions = Dense(num_classes, activation='softmax')(x)\n",
        "\n",
        "# Create the final model\n",
        "model = Model(inputs=base_model.input, outputs=predictions)\n"
      ],
      "metadata": {
        "id": "TSlNDoi7REOz"
      },
      "execution_count": null,
      "outputs": []
    },
    {
      "cell_type": "code",
      "source": [
        "# Compile the model\n",
        "model.compile(optimizer=Adam(learning_rate=0.0001), loss='categorical_crossentropy', metrics=['accuracy'])\n"
      ],
      "metadata": {
        "id": "pwsutZt1RG1F"
      },
      "execution_count": null,
      "outputs": []
    },
    {
      "cell_type": "code",
      "source": [
        "# Unfreeze the last few layers of InceptionV3 for fine-tuning\n",
        "for layer in base_model.layers[-20:]:  # Unfreezing the last 20 layers\n",
        "    layer.trainable = True\n",
        "\n",
        "# Re-compile the model with a lower learning rate\n",
        "model.compile(optimizer=Adam(learning_rate=0.00001), loss='categorical_crossentropy', metrics=['accuracy'])\n",
        "\n"
      ],
      "metadata": {
        "id": "cq6GvCJ8ZDXc"
      },
      "execution_count": null,
      "outputs": []
    },
    {
      "cell_type": "code",
      "source": [
        "# Add callbacks\n",
        "early_stopping = EarlyStopping(monitor='val_loss', patience=5, restore_best_weights=True)\n",
        "model_checkpoint = ModelCheckpoint('/content/drive/MyDrive/best_inceptionv3_model.keras', monitor='val_loss', save_best_only=True)\n",
        "\n",
        "# Train the model\n",
        "history = model.fit(\n",
        "    train_generator,\n",
        "    steps_per_epoch=train_generator.samples // train_generator.batch_size,\n",
        "    validation_data=val_generator,\n",
        "    validation_steps=val_generator.samples // val_generator.batch_size,\n",
        "    epochs=20,  # Adjust the number of epochs as needed\n",
        "    callbacks=[early_stopping, model_checkpoint]\n",
        ")\n"
      ],
      "metadata": {
        "colab": {
          "base_uri": "https://localhost:8080/"
        },
        "id": "xv1uPYnZRNJc",
        "outputId": "1ea6a424-79d6-4bc3-a22c-6ac355d1e64a"
      },
      "execution_count": null,
      "outputs": [
        {
          "output_type": "stream",
          "name": "stdout",
          "text": [
            "Epoch 1/20\n"
          ]
        },
        {
          "output_type": "stream",
          "name": "stderr",
          "text": [
            "/usr/local/lib/python3.10/dist-packages/keras/src/trainers/data_adapters/py_dataset_adapter.py:121: UserWarning: Your `PyDataset` class should call `super().__init__(**kwargs)` in its constructor. `**kwargs` can include `workers`, `use_multiprocessing`, `max_queue_size`. Do not pass these arguments to `fit()`, as they will be ignored.\n",
            "  self._warn_if_super_not_called()\n"
          ]
        },
        {
          "output_type": "stream",
          "name": "stdout",
          "text": [
            "\u001b[1m19/19\u001b[0m \u001b[32m━━━━━━━━━━━━━━━━━━━━\u001b[0m\u001b[37m\u001b[0m \u001b[1m544s\u001b[0m 17s/step - accuracy: 0.3084 - loss: 1.5045 - val_accuracy: 0.5938 - val_loss: 1.1211\n",
            "Epoch 2/20\n"
          ]
        },
        {
          "output_type": "stream",
          "name": "stderr",
          "text": [
            "/usr/lib/python3.10/contextlib.py:153: UserWarning: Your input ran out of data; interrupting training. Make sure that your dataset or generator can generate at least `steps_per_epoch * epochs` batches. You may need to use the `.repeat()` function when building your dataset.\n",
            "  self.gen.throw(typ, value, traceback)\n"
          ]
        },
        {
          "output_type": "stream",
          "name": "stdout",
          "text": [
            "\r\u001b[1m19/19\u001b[0m \u001b[32m━━━━━━━━━━━━━━━━━━━━\u001b[0m\u001b[37m\u001b[0m \u001b[1m18s\u001b[0m 929ms/step - accuracy: 0.0000e+00 - loss: 0.0000e+00 - val_accuracy: 0.7500 - val_loss: 1.0753\n",
            "Epoch 3/20\n",
            "\u001b[1m19/19\u001b[0m \u001b[32m━━━━━━━━━━━━━━━━━━━━\u001b[0m\u001b[37m\u001b[0m \u001b[1m161s\u001b[0m 6s/step - accuracy: 0.5201 - loss: 1.0817 - val_accuracy: 0.5156 - val_loss: 1.0213\n",
            "Epoch 4/20\n",
            "\u001b[1m19/19\u001b[0m \u001b[32m━━━━━━━━━━━━━━━━━━━━\u001b[0m\u001b[37m\u001b[0m \u001b[1m3s\u001b[0m 142ms/step - accuracy: 0.0000e+00 - loss: 0.0000e+00 - val_accuracy: 0.5833 - val_loss: 1.0043\n",
            "Epoch 5/20\n",
            "\u001b[1m19/19\u001b[0m \u001b[32m━━━━━━━━━━━━━━━━━━━━\u001b[0m\u001b[37m\u001b[0m \u001b[1m200s\u001b[0m 6s/step - accuracy: 0.5486 - loss: 0.9789 - val_accuracy: 0.5312 - val_loss: 0.9408\n",
            "Epoch 6/20\n",
            "\u001b[1m19/19\u001b[0m \u001b[32m━━━━━━━━━━━━━━━━━━━━\u001b[0m\u001b[37m\u001b[0m \u001b[1m7s\u001b[0m 384ms/step - accuracy: 0.0000e+00 - loss: 0.0000e+00 - val_accuracy: 0.5000 - val_loss: 0.9202\n",
            "Epoch 7/20\n",
            "\u001b[1m19/19\u001b[0m \u001b[32m━━━━━━━━━━━━━━━━━━━━\u001b[0m\u001b[37m\u001b[0m \u001b[1m192s\u001b[0m 6s/step - accuracy: 0.5960 - loss: 0.8824 - val_accuracy: 0.5469 - val_loss: 0.8879\n",
            "Epoch 8/20\n",
            "\u001b[1m19/19\u001b[0m \u001b[32m━━━━━━━━━━━━━━━━━━━━\u001b[0m\u001b[37m\u001b[0m \u001b[1m4s\u001b[0m 198ms/step - accuracy: 0.0000e+00 - loss: 0.0000e+00 - val_accuracy: 0.7500 - val_loss: 0.8781\n",
            "Epoch 9/20\n",
            "\u001b[1m19/19\u001b[0m \u001b[32m━━━━━━━━━━━━━━━━━━━━\u001b[0m\u001b[37m\u001b[0m \u001b[1m195s\u001b[0m 5s/step - accuracy: 0.6149 - loss: 0.8713 - val_accuracy: 0.5312 - val_loss: 0.9060\n",
            "Epoch 10/20\n",
            "\u001b[1m19/19\u001b[0m \u001b[32m━━━━━━━━━━━━━━━━━━━━\u001b[0m\u001b[37m\u001b[0m \u001b[1m2s\u001b[0m 128ms/step - accuracy: 0.0000e+00 - loss: 0.0000e+00 - val_accuracy: 0.5833 - val_loss: 0.8980\n",
            "Epoch 11/20\n",
            "\u001b[1m19/19\u001b[0m \u001b[32m━━━━━━━━━━━━━━━━━━━━\u001b[0m\u001b[37m\u001b[0m \u001b[1m154s\u001b[0m 5s/step - accuracy: 0.5936 - loss: 0.8607 - val_accuracy: 0.5938 - val_loss: 0.8398\n",
            "Epoch 12/20\n",
            "\u001b[1m19/19\u001b[0m \u001b[32m━━━━━━━━━━━━━━━━━━━━\u001b[0m\u001b[37m\u001b[0m \u001b[1m4s\u001b[0m 192ms/step - accuracy: 0.0000e+00 - loss: 0.0000e+00 - val_accuracy: 0.6667 - val_loss: 0.8183\n",
            "Epoch 13/20\n",
            "\u001b[1m19/19\u001b[0m \u001b[32m━━━━━━━━━━━━━━━━━━━━\u001b[0m\u001b[37m\u001b[0m \u001b[1m146s\u001b[0m 5s/step - accuracy: 0.6483 - loss: 0.7814 - val_accuracy: 0.5938 - val_loss: 0.8661\n",
            "Epoch 14/20\n",
            "\u001b[1m19/19\u001b[0m \u001b[32m━━━━━━━━━━━━━━━━━━━━\u001b[0m\u001b[37m\u001b[0m \u001b[1m2s\u001b[0m 129ms/step - accuracy: 0.0000e+00 - loss: 0.0000e+00 - val_accuracy: 0.5833 - val_loss: 0.8234\n",
            "Epoch 15/20\n",
            "\u001b[1m19/19\u001b[0m \u001b[32m━━━━━━━━━━━━━━━━━━━━\u001b[0m\u001b[37m\u001b[0m \u001b[1m149s\u001b[0m 5s/step - accuracy: 0.6883 - loss: 0.7515 - val_accuracy: 0.5625 - val_loss: 0.8147\n",
            "Epoch 16/20\n",
            "\u001b[1m19/19\u001b[0m \u001b[32m━━━━━━━━━━━━━━━━━━━━\u001b[0m\u001b[37m\u001b[0m \u001b[1m3s\u001b[0m 141ms/step - accuracy: 0.0000e+00 - loss: 0.0000e+00 - val_accuracy: 0.6667 - val_loss: 0.7698\n",
            "Epoch 17/20\n",
            "\u001b[1m19/19\u001b[0m \u001b[32m━━━━━━━━━━━━━━━━━━━━\u001b[0m\u001b[37m\u001b[0m \u001b[1m147s\u001b[0m 5s/step - accuracy: 0.6631 - loss: 0.7157 - val_accuracy: 0.5469 - val_loss: 0.8332\n",
            "Epoch 18/20\n",
            "\u001b[1m19/19\u001b[0m \u001b[32m━━━━━━━━━━━━━━━━━━━━\u001b[0m\u001b[37m\u001b[0m \u001b[1m2s\u001b[0m 106ms/step - accuracy: 0.0000e+00 - loss: 0.0000e+00 - val_accuracy: 0.5000 - val_loss: 0.8057\n",
            "Epoch 19/20\n",
            "\u001b[1m19/19\u001b[0m \u001b[32m━━━━━━━━━━━━━━━━━━━━\u001b[0m\u001b[37m\u001b[0m \u001b[1m150s\u001b[0m 5s/step - accuracy: 0.6477 - loss: 0.7397 - val_accuracy: 0.5625 - val_loss: 0.8150\n",
            "Epoch 20/20\n",
            "\u001b[1m19/19\u001b[0m \u001b[32m━━━━━━━━━━━━━━━━━━━━\u001b[0m\u001b[37m\u001b[0m \u001b[1m2s\u001b[0m 123ms/step - accuracy: 0.0000e+00 - loss: 0.0000e+00 - val_accuracy: 0.4167 - val_loss: 0.8097\n"
          ]
        }
      ]
    },
    {
      "cell_type": "code",
      "source": [
        "# Evaluate the model on the test set\n",
        "test_loss, test_accuracy = model.evaluate(test_generator, steps=test_generator.samples // test_generator.batch_size)\n",
        "print(f\"Test Loss: {test_loss}, Test Accuracy: {test_accuracy}\")"
      ],
      "metadata": {
        "colab": {
          "base_uri": "https://localhost:8080/"
        },
        "id": "btMQ9zoBZsY8",
        "outputId": "0be544ff-4353-4b87-e7f3-dd1b28a73c03"
      },
      "execution_count": null,
      "outputs": [
        {
          "output_type": "stream",
          "name": "stdout",
          "text": [
            "\u001b[1m2/2\u001b[0m \u001b[32m━━━━━━━━━━━━━━━━━━━━\u001b[0m\u001b[37m\u001b[0m \u001b[1m12s\u001b[0m 7s/step - accuracy: 0.6771 - loss: 0.7331\n",
            "Test Loss: 0.7637121677398682, Test Accuracy: 0.640625\n"
          ]
        }
      ]
    },
    {
      "cell_type": "code",
      "source": [
        "import numpy as np\n",
        "from sklearn.metrics import confusion_matrix\n",
        "import matplotlib.pyplot as plt\n",
        "import seaborn as sns\n",
        "\n",
        "# Get the true labels from the test generator\n",
        "true_labels = test_generator.classes\n",
        "\n",
        "# Predict the probabilities on the test set\n",
        "predictions = model.predict(test_generator, steps=test_generator.samples // test_generator.batch_size + 1)\n",
        "\n",
        "# Convert predicted probabilities to class labels\n",
        "predicted_labels = np.argmax(predictions, axis=1)\n",
        "\n",
        "# Get the class labels (for use in confusion matrix)\n",
        "class_labels = list(test_generator.class_indices.keys())\n",
        "\n",
        "# Compute the confusion matrix\n",
        "conf_matrix = confusion_matrix(true_labels, predicted_labels)\n",
        "\n",
        "# Plot the confusion matrix\n",
        "plt.figure(figsize=(10, 8))\n",
        "sns.heatmap(conf_matrix, annot=True, fmt='d', cmap='Blues', xticklabels=class_labels, yticklabels=class_labels)\n",
        "plt.title('Confusion Matrix')\n",
        "plt.ylabel('True Labels')\n",
        "plt.xlabel('Predicted Labels')\n",
        "plt.show()\n"
      ],
      "metadata": {
        "colab": {
          "base_uri": "https://localhost:8080/",
          "height": 736
        },
        "id": "fNNgGdlwaFOf",
        "outputId": "dc9c2122-c335-4a06-db03-8e55de60bc17"
      },
      "execution_count": null,
      "outputs": [
        {
          "output_type": "stream",
          "name": "stdout",
          "text": [
            "\u001b[1m3/3\u001b[0m \u001b[32m━━━━━━━━━━━━━━━━━━━━\u001b[0m\u001b[37m\u001b[0m \u001b[1m26s\u001b[0m 4s/step\n"
          ]
        },
        {
          "output_type": "display_data",
          "data": {
            "text/plain": [
              "<Figure size 1000x800 with 2 Axes>"
            ],
            "image/png": "[encoded data removed]"
          },
          "metadata": {}
        }
      ]
    },
    {
      "cell_type": "code",
      "source": [
        "from sklearn.metrics import roc_curve, auc\n",
        "from sklearn.preprocessing import label_binarize\n",
        "import matplotlib.pyplot as plt\n",
        "from itertools import cycle\n",
        "\n",
        "# Get true labels and predict probabilities\n",
        "true_labels = test_generator.classes\n",
        "predictions = model.predict(test_generator, steps=test_generator.samples // test_generator.batch_size + 1)\n",
        "\n",
        "# Define the class labels (for use in plotting and binarization)\n",
        "class_labels = ['Level 02', 'Level 03', 'Level 04', 'Level 05']\n",
        "\n",
        "# Binarize the true labels for multi-class classification (one-vs-rest)\n",
        "n_classes = len(class_labels)\n",
        "true_labels_bin = label_binarize(true_labels, classes=list(range(n_classes)))\n",
        "\n",
        "# Compute ROC curve and ROC area for each class\n",
        "fpr = dict()  # False positive rate\n",
        "tpr = dict()  # True positive rate\n",
        "roc_auc = dict()  # AUC for each class\n",
        "\n",
        "for i in range(n_classes):\n",
        "    fpr[i], tpr[i], _ = roc_curve(true_labels_bin[:, i], predictions[:, i])\n",
        "    roc_auc[i] = auc(fpr[i], tpr[i])\n",
        "\n",
        "# Plot ROC curve for each class\n",
        "plt.figure(figsize=(10, 8))\n",
        "colors = cycle(['blue', 'red', 'green', 'orange'])\n",
        "\n",
        "for i, color in zip(range(n_classes), colors):\n",
        "    plt.plot(fpr[i], tpr[i], color=color, lw=2,\n",
        "             label=f'{class_labels[i]} (AUC = {roc_auc[i]:0.2f})')\n",
        "\n",
        "# Plot the diagonal line for random guessing\n",
        "plt.plot([0, 1], [0, 1], 'k--', lw=2)\n",
        "\n",
        "# Customize the plot\n",
        "plt.xlim([0.0, 1.0])\n",
        "plt.ylim([0.0, 1.05])\n",
        "plt.xlabel('False Positive Rate')\n",
        "plt.ylabel('True Positive Rate')\n",
        "plt.title('ROC Curve for Multi-Class Classification (Level 02 to Level 05)')\n",
        "plt.legend(loc='lower right')\n",
        "plt.grid()\n",
        "plt.show()\n"
      ],
      "metadata": {
        "colab": {
          "base_uri": "https://localhost:8080/",
          "height": 736
        },
        "id": "AmJeij_2a0DP",
        "outputId": "61489189-3b87-4b6b-e600-d15e054cac24"
      },
      "execution_count": null,
      "outputs": [
        {
          "output_type": "stream",
          "name": "stdout",
          "text": [
            "\u001b[1m3/3\u001b[0m \u001b[32m━━━━━━━━━━━━━━━━━━━━\u001b[0m\u001b[37m\u001b[0m \u001b[1m16s\u001b[0m 4s/step\n"
          ]
        },
        {
          "output_type": "display_data",
          "data": {
            "text/plain": [
              "<Figure size 1000x800 with 1 Axes>"
            ],
            "image/png": "[encoded data removed]"
          },
          "metadata": {}
        }
      ]
    },
    {
      "cell_type": "code",
      "source": [
        "from tensorflow.keras.applications import InceptionV3\n",
        "from tensorflow.keras.models import Model\n",
        "from tensorflow.keras.layers import Dense, GlobalAveragePooling2D, Dropout, Input\n",
        "from tensorflow.keras.regularizers import l2\n",
        "from tensorflow.keras.optimizers import Adam\n",
        "\n",
        "# Define the input layer with shape (299, 299, 3) for InceptionV3\n",
        "input_layer = Input(shape=(299, 299, 3))\n",
        "\n",
        "# Load the InceptionV3 model with pre-trained weights, excluding the top layers\n",
        "base_model = InceptionV3(weights='imagenet', include_top=False, input_tensor=input_layer)\n",
        "\n",
        "# Freeze the InceptionV3 base layers to prevent them from being trained initially\n",
        "for layer in base_model.layers:\n",
        "    layer.trainable = False\n",
        "\n",
        "# Add custom layers on top of InceptionV3\n",
        "x = base_model.output\n",
        "x = GlobalAveragePooling2D()(x)  # Pooling to reduce dimensionality\n",
        "x = Dense(128, activation='relu', kernel_regularizer=l2(0.001))(x)  # First dense layer with L2 regularization\n",
        "x = Dropout(0.5)(x)  # Dropout for additional regularization\n",
        "x = Dense(64, activation='relu', kernel_regularizer=l2(0.001))(x)  # Second dense layer with L2 regularization\n",
        "x = Dropout(0.5)(x)\n",
        "\n",
        "# Output layer with softmax for multi-class classification (e.g., 10 classes)\n",
        "output_layer = Dense(10, activation='softmax')(x)\n",
        "\n",
        "# Create the model\n",
        "model = Model(inputs=input_layer, outputs=output_layer)\n",
        "\n",
        "# Compile the model\n",
        "model.compile(optimizer=Adam(learning_rate=1e-3), loss='categorical_crossentropy', metrics=['accuracy'])\n",
        "\n",
        "\n"
      ],
      "metadata": {
        "id": "SlVSTJAChVPY"
      },
      "execution_count": null,
      "outputs": []
    },
    {
      "cell_type": "code",
      "source": [
        "# Save the trained model in the .keras format (recommended for new Keras versions)\n",
        "model.save('/content/drive/MyDrive/resfinal_trained_model.keras')\n"
      ],
      "metadata": {
        "id": "x-gQaaAsa6sl"
      },
      "execution_count": null,
      "outputs": []
    },
    {
      "cell_type": "code",
      "source": [
        "from sklearn.metrics import roc_auc_score\n",
        "from sklearn.preprocessing import label_binarize\n",
        "\n",
        "# Get true labels and predict probabilities\n",
        "true_labels = test_generator.classes\n",
        "predictions = model.predict(test_generator, steps=test_generator.samples // test_generator.batch_size + 1)\n",
        "\n",
        "# Binarize the true labels for multi-class classification (one-vs-rest)\n",
        "n_classes = len(test_generator.class_indices)\n",
        "true_labels_bin = label_binarize(true_labels, classes=list(range(n_classes)))\n",
        "\n",
        "# Calculate macro and weighted AUC\n",
        "macro_auc = roc_auc_score(true_labels_bin, predictions, average='macro', multi_class='ovr')\n",
        "weighted_auc = roc_auc_score(true_labels_bin, predictions, average='weighted', multi_class='ovr')\n",
        "\n",
        "# Print the results\n",
        "print(f\"Macro AUC: {macro_auc:.4f}\")\n",
        "print(f\"Weighted AUC: {weighted_auc:.4f}\")\n"
      ],
      "metadata": {
        "colab": {
          "base_uri": "https://localhost:8080/"
        },
        "id": "Q2c8RnvbbDyA",
        "outputId": "ec6ea9e5-f681-469c-f314-e088353706cc"
      },
      "execution_count": null,
      "outputs": [
        {
          "output_type": "stream",
          "name": "stdout",
          "text": [
            "\u001b[1m3/3\u001b[0m \u001b[32m━━━━━━━━━━━━━━━━━━━━\u001b[0m\u001b[37m\u001b[0m \u001b[1m14s\u001b[0m 5s/step\n",
            "Macro AUC: 0.9305\n",
            "Weighted AUC: 0.9305\n"
          ]
        }
      ]
    },
    {
      "cell_type": "code",
      "source": [
        "from sklearn.metrics import classification_report, f1_score\n",
        "\n",
        "# Get true labels from test generator\n",
        "true_labels = test_generator.classes\n",
        "\n",
        "# Predict probabilities on the test set\n",
        "predictions = model.predict(test_generator, steps=test_generator.samples // test_generator.batch_size + 1)\n",
        "\n",
        "# Convert predicted probabilities to class labels\n",
        "predicted_labels = np.argmax(predictions, axis=1)\n",
        "\n",
        "# Get class labels from the test generator\n",
        "class_labels = list(test_generator.class_indices.keys())\n",
        "\n",
        "# Generate the classification report\n",
        "report = classification_report(true_labels, predicted_labels, target_names=class_labels)\n",
        "\n",
        "# Display the classification report\n",
        "print(report)\n",
        "\n",
        "# Calculate the macro and weighted F1-scores\n",
        "macro_f1 = f1_score(true_labels, predicted_labels, average='macro')\n",
        "weighted_f1 = f1_score(true_labels, predicted_labels, average='weighted')\n",
        "\n",
        "# Print the macro and weighted F1-scores\n",
        "print(f\"Macro F1-Score: {macro_f1}\")\n",
        "print(f\"Weighted F1-Score: {weighted_f1}\")\n"
      ],
      "metadata": {
        "colab": {
          "base_uri": "https://localhost:8080/"
        },
        "id": "Dky4fgqVbWwi",
        "outputId": "314b1424-998c-49e1-d5ff-eaf24e5e6b5f"
      },
      "execution_count": null,
      "outputs": [
        {
          "output_type": "stream",
          "name": "stdout",
          "text": [
            "\u001b[1m3/3\u001b[0m \u001b[32m━━━━━━━━━━━━━━━━━━━━\u001b[0m\u001b[37m\u001b[0m \u001b[1m14s\u001b[0m 4s/step\n",
            "              precision    recall  f1-score   support\n",
            "\n",
            "    Level 02       1.00      1.00      1.00        19\n",
            "    Level 03       1.00      0.42      0.59        19\n",
            "    Level 04       0.71      0.26      0.38        19\n",
            "    Level 05       0.40      0.89      0.56        19\n",
            "\n",
            "    accuracy                           0.64        76\n",
            "   macro avg       0.78      0.64      0.63        76\n",
            "weighted avg       0.78      0.64      0.63        76\n",
            "\n",
            "Macro F1-Score: 0.6336462565970762\n",
            "Weighted F1-Score: 0.6336462565970763\n"
          ]
        }
      ]
    }
  ]
}